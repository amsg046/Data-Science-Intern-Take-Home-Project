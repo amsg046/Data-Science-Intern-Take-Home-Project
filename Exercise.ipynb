{
 "cells": [
  {
   "cell_type": "code",
   "execution_count": 1,
   "metadata": {},
   "outputs": [
    {
     "data": {
      "text/html": [
       "<style>.container { width:98% !important; }</style>"
      ],
      "text/plain": [
       "<IPython.core.display.HTML object>"
      ]
     },
     "metadata": {},
     "output_type": "display_data"
    }
   ],
   "source": [
    "from IPython.display import display, HTML, Markdown\n",
    "display(HTML(\"<style>.container { width:98% !important; }</style>\"))\n",
    "\n",
    "from datetime import datetime, timedelta\n",
    "import json\n",
    "import matplotlib.pyplot as plt\n",
    "import pandas as pd\n",
    "import re\n",
    "pd.set_option(\"display.max_columns\",999)\n",
    "pd.options.display.max_rows = 9999\n",
    "pd.set_option('display.float_format', lambda x: '%.3f' % x)"
   ]
  },
  {
   "cell_type": "code",
   "execution_count": 2,
   "metadata": {},
   "outputs": [
    {
     "data": {
      "text/html": [
       "<div>\n",
       "<style scoped>\n",
       "    .dataframe tbody tr th:only-of-type {\n",
       "        vertical-align: middle;\n",
       "    }\n",
       "\n",
       "    .dataframe tbody tr th {\n",
       "        vertical-align: top;\n",
       "    }\n",
       "\n",
       "    .dataframe thead th {\n",
       "        text-align: right;\n",
       "    }\n",
       "</style>\n",
       "<table border=\"1\" class=\"dataframe\">\n",
       "  <thead>\n",
       "    <tr style=\"text-align: right;\">\n",
       "      <th></th>\n",
       "      <th>LogId</th>\n",
       "      <th>EmailSentDateTimeUtc</th>\n",
       "      <th>EmailCampaignId</th>\n",
       "      <th>EmailOpenedDateTimeUtc</th>\n",
       "      <th>EmailClickedDateTimeUtc</th>\n",
       "      <th>UserId</th>\n",
       "      <th>ZipCode</th>\n",
       "      <th>AddressData</th>\n",
       "    </tr>\n",
       "  </thead>\n",
       "  <tbody>\n",
       "    <tr>\n",
       "      <th>0</th>\n",
       "      <td>208728980120</td>\n",
       "      <td>2019-07-31 15:13:25.817</td>\n",
       "      <td>792229022220</td>\n",
       "      <td>NaN</td>\n",
       "      <td>NaN</td>\n",
       "      <td>851332105693</td>\n",
       "      <td>NaN</td>\n",
       "      <td>NaN</td>\n",
       "    </tr>\n",
       "    <tr>\n",
       "      <th>1</th>\n",
       "      <td>292563123584</td>\n",
       "      <td>2019-08-02 02:15:52.447</td>\n",
       "      <td>866429603262</td>\n",
       "      <td>2019-08-02 15:16:01.7533333</td>\n",
       "      <td>NaN</td>\n",
       "      <td>369293054977</td>\n",
       "      <td>NaN</td>\n",
       "      <td>NaN</td>\n",
       "    </tr>\n",
       "    <tr>\n",
       "      <th>2</th>\n",
       "      <td>72552047640</td>\n",
       "      <td>2019-08-07 16:21:37.293</td>\n",
       "      <td>383130475294</td>\n",
       "      <td>NaN</td>\n",
       "      <td>NaN</td>\n",
       "      <td>938684493058</td>\n",
       "      <td>NaN</td>\n",
       "      <td>NaN</td>\n",
       "    </tr>\n",
       "    <tr>\n",
       "      <th>3</th>\n",
       "      <td>1089121462891</td>\n",
       "      <td>2019-08-07 16:38:03.323</td>\n",
       "      <td>792229022220</td>\n",
       "      <td>NaN</td>\n",
       "      <td>NaN</td>\n",
       "      <td>50233193142</td>\n",
       "      <td>NaN</td>\n",
       "      <td>NaN</td>\n",
       "    </tr>\n",
       "    <tr>\n",
       "      <th>4</th>\n",
       "      <td>828770719378</td>\n",
       "      <td>2019-08-12 11:45:43.293</td>\n",
       "      <td>479810600058</td>\n",
       "      <td>NaN</td>\n",
       "      <td>NaN</td>\n",
       "      <td>369293054977</td>\n",
       "      <td>NaN</td>\n",
       "      <td>NaN</td>\n",
       "    </tr>\n",
       "  </tbody>\n",
       "</table>\n",
       "</div>"
      ],
      "text/plain": [
       "           LogId     EmailSentDateTimeUtc  EmailCampaignId  \\\n",
       "0   208728980120  2019-07-31 15:13:25.817     792229022220   \n",
       "1   292563123584  2019-08-02 02:15:52.447     866429603262   \n",
       "2    72552047640  2019-08-07 16:21:37.293     383130475294   \n",
       "3  1089121462891  2019-08-07 16:38:03.323     792229022220   \n",
       "4   828770719378  2019-08-12 11:45:43.293     479810600058   \n",
       "\n",
       "        EmailOpenedDateTimeUtc EmailClickedDateTimeUtc        UserId  ZipCode  \\\n",
       "0                          NaN                     NaN  851332105693      NaN   \n",
       "1  2019-08-02 15:16:01.7533333                     NaN  369293054977      NaN   \n",
       "2                          NaN                     NaN  938684493058      NaN   \n",
       "3                          NaN                     NaN   50233193142      NaN   \n",
       "4                          NaN                     NaN  369293054977      NaN   \n",
       "\n",
       "  AddressData  \n",
       "0         NaN  \n",
       "1         NaN  \n",
       "2         NaN  \n",
       "3         NaN  \n",
       "4         NaN  "
      ]
     },
     "metadata": {},
     "output_type": "display_data"
    },
    {
     "data": {
      "text/html": [
       "<div>\n",
       "<style scoped>\n",
       "    .dataframe tbody tr th:only-of-type {\n",
       "        vertical-align: middle;\n",
       "    }\n",
       "\n",
       "    .dataframe tbody tr th {\n",
       "        vertical-align: top;\n",
       "    }\n",
       "\n",
       "    .dataframe thead th {\n",
       "        text-align: right;\n",
       "    }\n",
       "</style>\n",
       "<table border=\"1\" class=\"dataframe\">\n",
       "  <thead>\n",
       "    <tr style=\"text-align: right;\">\n",
       "      <th></th>\n",
       "      <th>UserId</th>\n",
       "      <th>DateOfActivityPST</th>\n",
       "      <th>ActivityCount</th>\n",
       "    </tr>\n",
       "  </thead>\n",
       "  <tbody>\n",
       "    <tr>\n",
       "      <th>0</th>\n",
       "      <td>241710509395</td>\n",
       "      <td>2019-09-24</td>\n",
       "      <td>29</td>\n",
       "    </tr>\n",
       "    <tr>\n",
       "      <th>1</th>\n",
       "      <td>241710509395</td>\n",
       "      <td>2020-09-11</td>\n",
       "      <td>60</td>\n",
       "    </tr>\n",
       "    <tr>\n",
       "      <th>2</th>\n",
       "      <td>435228414681</td>\n",
       "      <td>2018-01-06</td>\n",
       "      <td>12</td>\n",
       "    </tr>\n",
       "    <tr>\n",
       "      <th>3</th>\n",
       "      <td>435228414681</td>\n",
       "      <td>2018-04-20</td>\n",
       "      <td>20</td>\n",
       "    </tr>\n",
       "    <tr>\n",
       "      <th>4</th>\n",
       "      <td>435228414681</td>\n",
       "      <td>2018-05-10</td>\n",
       "      <td>136</td>\n",
       "    </tr>\n",
       "  </tbody>\n",
       "</table>\n",
       "</div>"
      ],
      "text/plain": [
       "         UserId DateOfActivityPST  ActivityCount\n",
       "0  241710509395        2019-09-24             29\n",
       "1  241710509395        2020-09-11             60\n",
       "2  435228414681        2018-01-06             12\n",
       "3  435228414681        2018-04-20             20\n",
       "4  435228414681        2018-05-10            136"
      ]
     },
     "metadata": {},
     "output_type": "display_data"
    }
   ],
   "source": [
    "df_emails = pd.read_csv('email_data.csv',delimiter=',')\n",
    "display(df_emails.head())\n",
    "\n",
    "df_activity = pd.read_csv('activity_data.csv',delimiter=',')\n",
    "display(df_activity.head())"
   ]
  },
  {
   "cell_type": "code",
   "execution_count": 3,
   "metadata": {},
   "outputs": [
    {
     "name": "stdout",
     "output_type": "stream",
     "text": [
      "Number of rows in email dataset:  474,163\n",
      "Number of rows in activity dataset:  4,559,973\n",
      "Number of total emails sent:  15,805,433\n"
     ]
    }
   ],
   "source": [
    "# Question 1\n",
    "\n",
    "# Assumptions: N/A \n",
    "\n",
    "# Number of rows in email_data dataset\n",
    "print(\"Number of rows in email dataset: \", f'{len(df_emails):,}')\n",
    "\n",
    "# Number of rows in activity_data dataset\n",
    "print(\"Number of rows in activity dataset: \",f'{len(df_activity):,}')\n",
    "\n",
    "# Number of total emails sent\n",
    "num_emails_sent = round(len(df_emails) / .03)\n",
    "print(\"Number of total emails sent: \", f'{num_emails_sent:,}')"
   ]
  },
  {
   "cell_type": "code",
   "execution_count": 4,
   "metadata": {},
   "outputs": [
    {
     "name": "stdout",
     "output_type": "stream",
     "text": [
      "Date of earliest email sent:  01/03/2018 21:29 PST\n",
      "Date of most recent email sent:  04/19/2021 06:45 PST\n"
     ]
    }
   ],
   "source": [
    "# Question 2\n",
    "\n",
    "# Assumptions: Consistent number of characters in date formatting\n",
    "\n",
    "# Retrieve min and max time and date in UTC\n",
    "emails_date_df = df_emails[\"EmailSentDateTimeUtc\"]\n",
    "earliest_email_utc = emails_date_df.min()\n",
    "recent_email_utc = emails_date_df.max()\n",
    "\n",
    "# Convert to PST\n",
    "earliest_email_pst = datetime.strptime(earliest_email_utc[:16], \"%Y-%m-%d %H:%M\") - timedelta(hours=7)\n",
    "recent_email_pst = datetime.strptime(recent_email_utc[:16], \"%Y-%m-%d %H:%M\") - timedelta(hours=7)\n",
    "print(\"Date of earliest email sent: \", datetime.strftime(earliest_email_pst, \"%m/%d/%Y %H:%M\"), \"PST\")\n",
    "print(\"Date of most recent email sent: \",datetime.strftime(recent_email_pst, \"%m/%d/%Y %H:%M\"), \"PST\")"
   ]
  },
  {
   "cell_type": "code",
   "execution_count": 5,
   "metadata": {},
   "outputs": [
    {
     "name": "stdout",
     "output_type": "stream",
     "text": [
      "Zip Code:  63301   Number of Emails:  312\n",
      "Zip Code:  33801   Number of Emails:  310\n",
      "Zip Code:  34210   Number of Emails:  299\n",
      "Zip Code:  38301   Number of Emails:  295\n",
      "Zip Code:  67460   Number of Emails:  285\n",
      "Zip Code:  95971   Number of Emails:  277\n",
      "Zip Code:  42301   Number of Emails:  266\n",
      "Zip Code:  36104   Number of Emails:  254\n",
      "Zip Code:  40769   Number of Emails:  234\n",
      "Zip Code:  85225   Number of Emails:  229\n"
     ]
    },
    {
     "name": "stderr",
     "output_type": "stream",
     "text": [
      "c:\\users\\amsg0\\appdata\\local\\programs\\python\\python37\\lib\\site-packages\\ipykernel_launcher.py:9: SettingWithCopyWarning: \n",
      "A value is trying to be set on a copy of a slice from a DataFrame.\n",
      "Try using .loc[row_indexer,col_indexer] = value instead\n",
      "\n",
      "See the caveats in the documentation: https://pandas.pydata.org/pandas-docs/stable/user_guide/indexing.html#returning-a-view-versus-a-copy\n",
      "  if __name__ == '__main__':\n"
     ]
    }
   ],
   "source": [
    "# Question 3\n",
    "\n",
    "# Assumptions: 1. Letters in Zip Code can be dropped    2. Data Entries with NaN in 'AddressData' field dropped\n",
    "\n",
    "# Drop NA vals\n",
    "df_zip = df_emails[df_emails[\"AddressData\"].notna()]\n",
    "\n",
    "# Apply lambda function - reformat and parse JSON object, exclude extraneous characters\n",
    "df_zip[\"ZipCode\"] = df_zip.apply(lambda y: re.sub('[^0-9]','',json.loads(y[\"AddressData\"].replace(\"\\'\", \"\\\"\"))[\"ZipCode\"]), axis=1)\n",
    "\n",
    "# Group by Zip Code, sort in descending order\n",
    "group_zc = df_zip.groupby(\"ZipCode\")[\"ZipCode\"].count()\n",
    "zip_sort = group_zc.sort_values(ascending=False)\n",
    "zc_list = [zip_sort.index[i] for i in range(1,11)]\n",
    "zc_count_list = [zip_sort[i] for i in range(1,11)]\n",
    "\n",
    "# Output \n",
    "for i, zc in enumerate(zc_list):\n",
    "    print(\"Zip Code: \", zc, \" \", \"Number of Emails: \", zc_count_list[i])\n"
   ]
  },
  {
   "cell_type": "code",
   "execution_count": 6,
   "metadata": {},
   "outputs": [
    {
     "name": "stderr",
     "output_type": "stream",
     "text": [
      "C:\\Users\\amsg0\\AppData\\Roaming\\Python\\Python37\\site-packages\\matplotlib\\cbook\\__init__.py:1402: FutureWarning: Support for multi-dimensional indexing (e.g. `obj[:, None]`) is deprecated and will be removed in a future version.  Convert to a numpy array before indexing instead.\n",
      "  x[:, None]\n",
      "C:\\Users\\amsg0\\AppData\\Roaming\\Python\\Python37\\site-packages\\matplotlib\\cbook\\__init__.py:1402: FutureWarning: Support for multi-dimensional indexing (e.g. `obj[:, None]`) is deprecated and will be removed in a future version.  Convert to a numpy array before indexing instead.\n",
      "  x[:, None]\n",
      "C:\\Users\\amsg0\\AppData\\Roaming\\Python\\Python37\\site-packages\\matplotlib\\axes\\_base.py:276: FutureWarning: Support for multi-dimensional indexing (e.g. `obj[:, None]`) is deprecated and will be removed in a future version.  Convert to a numpy array before indexing instead.\n",
      "  x = x[:, np.newaxis]\n"
     ]
    },
    {
     "data": {
      "image/png": "[encoded data removed]",
      "text/plain": [
       "<Figure size 432x288 with 2 Axes>"
      ]
     },
     "metadata": {
      "needs_background": "light"
     },
     "output_type": "display_data"
    }
   ],
   "source": [
    "# Question 4\n",
    "\n",
    "# Assumptions: Consistent number of characters in date formatting\n",
    "\n",
    "# Format date\n",
    "df_emails[\"Date\"] = df_emails.apply(lambda y: datetime.strptime(y[\"EmailSentDateTimeUtc\"][:16], \"%Y-%m-%d %H:%M\"), axis=1)\n",
    "df_emails[\"Month\"] = df_emails.apply(lambda y: datetime.strftime(y[\"Date\"], \"%m\"), axis=1)\n",
    "df_emails[\"Date_ymd\"] = df_emails.apply(lambda y: datetime.strftime(y[\"Date\"], \"%Y-%m-%d\"), axis=1)\n",
    "\n",
    "# Group data by month - Part 1 \n",
    "unique_emails = df_emails.groupby(pd.Grouper(key='Date', axis=0, \n",
    "                      freq='M', sort=True))[\"UserId\"].nunique()\n",
    "\n",
    "# Query pct of users sent an email and active on same day - Part 2\n",
    "unique_emails_users = df_emails.groupby(pd.Grouper(key='Date', axis=0, \n",
    "                      freq='M', sort=True))[\"UserId\"].unique()\n",
    "\n",
    "monthly_pcts = []\n",
    "active_group = df_activity.groupby(\"UserId\")[\"DateOfActivityPST\"].unique()\n",
    "for i, users in enumerate(unique_emails_users):\n",
    "    date_PST = unique_emails_users.index[i] - timedelta(hours=7)\n",
    "    date = datetime.strftime(date_PST,\"%Y-%m-%d\")\n",
    "    num_users, count = len(users), 0\n",
    "    filtered_df = df_emails.loc[df_emails[\"Month\"] == date[5:7]]\n",
    "    for user in users:\n",
    "        if user not in active_group:\n",
    "            continue\n",
    "        user_f_df = filtered_df.loc[filtered_df[\"UserId\"]==user]\n",
    "        for value in user_f_df[\"Date_ymd\"].values:\n",
    "            if value in active_group[user]:\n",
    "                count += 1 \n",
    "    monthly_pcts.append(count / num_users)\n",
    "\n",
    "# Plot Data\n",
    "fig, ax1 = plt.subplots()\n",
    "color = 'tab:red'\n",
    "ax1.set_xlabel('Date')\n",
    "ax1.set_ylabel('Number of users sent an email', color=color)\n",
    "ax1.set_xticklabels(ax1.get_xticks(), rotation = 45)\n",
    "ax1.plot(unique_emails, color=color)\n",
    "\n",
    "ax2 = ax1.twinx() \n",
    "color = 'tab:blue'\n",
    "ax2.set_ylabel(\"% of users active on day they were sent email\", color=color)\n",
    "ax2.plot(unique_emails.index, monthly_pcts, color=color)\n",
    "\n",
    "plt.title(\"Relationship between user activity and emails by month\")\n",
    "plt.show()"
   ]
  }
 ],
 "metadata": {
  "kernelspec": {
   "display_name": "Python 3",
   "language": "python",
   "name": "python3"
  },
  "language_info": {
   "codemirror_mode": {
    "name": "ipython",
    "version": 3
   },
   "file_extension": ".py",
   "mimetype": "text/x-python",
   "name": "python",
   "nbconvert_exporter": "python",
   "pygments_lexer": "ipython3",
   "version": "3.7.4"
  }
 },
 "nbformat": 4,
 "nbformat_minor": 4
}
